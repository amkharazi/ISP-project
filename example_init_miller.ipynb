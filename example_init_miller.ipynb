{
 "cells": [
  {
   "cell_type": "code",
   "execution_count": 1,
   "metadata": {},
   "outputs": [],
   "source": [
    "%load_ext autoreload\n",
    "%autoreload 2\n",
    "\n",
    "import sys\n",
    "sys.path.append('.')"
   ]
  },
  {
   "cell_type": "code",
   "execution_count": 3,
   "metadata": {},
   "outputs": [
    {
     "name": "stdout",
     "output_type": "stream",
     "text": [
      "\n",
      "\n",
      "Testing strategy=simple, binary_classifier=True, concat_experiments=True\n",
      "X shape: (7, 60, 6000, 46), Y shape: (7, 120)\n",
      "Testing strategy=simple, binary_classifier=True, concat_experiments=False\n",
      "X shape: (7, 2, 60, 3000, 46), Y shape: (7, 2, 60)\n",
      "\n",
      "\n",
      "Testing strategy=simple, binary_classifier=False, concat_experiments=True\n",
      "X shape: (7, 60, 6000, 46), Y shape: (7, 120)\n",
      "Testing strategy=simple, binary_classifier=False, concat_experiments=False\n",
      "X shape: (7, 2, 60, 3000, 46), Y shape: (7, 2, 60)\n",
      "\n",
      "\n",
      "Testing strategy=simple_continues, binary_classifier=True, concat_experiments=True\n",
      "X shape: (7, 60, 6000, 46), Y shape: (7, 60, 6000, 46)\n",
      "Testing strategy=simple_continues, binary_classifier=True, concat_experiments=False\n",
      "X shape: (7, 2, 60, 3000, 46), Y shape: (7, 2, 60, 3000, 46)\n",
      "\n",
      "\n",
      "Testing strategy=simple_continues, binary_classifier=False, concat_experiments=True\n",
      "X shape: (7, 60, 6000, 46), Y shape: (7, 60, 6000, 46)\n",
      "Testing strategy=simple_continues, binary_classifier=False, concat_experiments=False\n",
      "X shape: (7, 2, 60, 3000, 46), Y shape: (7, 2, 60, 3000, 46)\n",
      "\n",
      "\n",
      "Testing strategy=continues, binary_classifier=True, concat_experiments=True\n",
      "X shape: (7, 360000, 46), Y shape: (7, 360000, 46)\n",
      "Testing strategy=continues, binary_classifier=True, concat_experiments=False\n",
      "X shape: (7, 2, 180000, 46), Y shape: (7, 2, 180000, 46)\n",
      "\n",
      "\n",
      "Testing strategy=continues, binary_classifier=False, concat_experiments=True\n",
      "X shape: (7, 360000, 46), Y shape: (7, 360000, 46)\n",
      "Testing strategy=continues, binary_classifier=False, concat_experiments=False\n",
      "X shape: (7, 2, 180000, 46), Y shape: (7, 2, 180000, 46)\n",
      "\n",
      "\n",
      "Testing strategy=continue_idle, binary_classifier=True, concat_experiments=True\n",
      "X shape: (7, 752480, 46), Y shape: (7, 752480, 46)\n",
      "Testing strategy=continue_idle, binary_classifier=True, concat_experiments=False\n",
      "X shape: (7, 2, 376240, 46), Y shape: (7, 2, 376240, 46)\n",
      "\n",
      "\n",
      "Testing strategy=continue_idle, binary_classifier=False, concat_experiments=True\n",
      "X shape: (7, 752480, 46), Y shape: (7, 752480, 46)\n",
      "Testing strategy=continue_idle, binary_classifier=False, concat_experiments=False\n",
      "X shape: (7, 2, 376240, 46), Y shape: (7, 2, 376240, 46)\n"
     ]
    }
   ],
   "source": [
    "import numpy as np\n",
    "from miller_data_init import dataset_init\n",
    "\n",
    "# Define the combinations to test\n",
    "strategies = ['simple', 'simple_continues', 'continues', 'continue_idle']\n",
    "binary_classifiers = [True, False]\n",
    "concat_experiments_options = [True, False]\n",
    "\n",
    "# Run the tests\n",
    "for strategy in strategies:\n",
    "    for binary_classifier in binary_classifiers:\n",
    "        print('\\n')\n",
    "        for concat_experiments in concat_experiments_options:\n",
    "            print(f\"Testing strategy={strategy}, binary_classifier={binary_classifier}, concat_experiments={concat_experiments}\")\n",
    "            X, Y, extra_info = dataset_init(\n",
    "                strategy=strategy,\n",
    "                binary_classifier=binary_classifier,\n",
    "                concat_experiments=concat_experiments,\n",
    "                dataset_path='motor_imagery.npz'\n",
    "            )\n",
    "            \n",
    "            print(f\"X shape: {X.shape}, Y shape: {Y.shape}\")\n",
    "\n",
    "\n",
    "\n"
   ]
  }
 ],
 "metadata": {
  "kernelspec": {
   "display_name": "Python 3",
   "language": "python",
   "name": "python3"
  },
  "language_info": {
   "codemirror_mode": {
    "name": "ipython",
    "version": 3
   },
   "file_extension": ".py",
   "mimetype": "text/x-python",
   "name": "python",
   "nbconvert_exporter": "python",
   "pygments_lexer": "ipython3",
   "version": "3.12.4"
  }
 },
 "nbformat": 4,
 "nbformat_minor": 2
}
