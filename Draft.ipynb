{
 "cells": [
  {
   "cell_type": "code",
   "execution_count": 1,
   "metadata": {},
   "outputs": [],
   "source": [
    "%load_ext autoreload\n",
    "%autoreload 2\n",
    "\n",
    "import sys\n",
    "sys.path.append('.')\n"
   ]
  },
  {
   "cell_type": "code",
   "execution_count": 2,
   "metadata": {},
   "outputs": [],
   "source": [
    "from load_miller import split_classes, continues_classes, continues_classes_idle"
   ]
  },
  {
   "cell_type": "markdown",
   "metadata": {},
   "source": [
    "# Load data"
   ]
  },
  {
   "cell_type": "code",
   "execution_count": 3,
   "metadata": {},
   "outputs": [],
   "source": [
    "import numpy as np\n",
    "fname = 'motor_imagery.npz'\n",
    "data = np.load(fname, allow_pickle=True)['dat']"
   ]
  },
  {
   "cell_type": "code",
   "execution_count": 11,
   "metadata": {},
   "outputs": [
    {
     "data": {
      "text/plain": [
       "dict_keys(['t_off', 'stim_id', 't_on', 'srate', 'V', 'scale_uv', 'locs', 'hemisphere', 'lobe', 'gyrus', 'Brodmann_Area'])"
      ]
     },
     "execution_count": 11,
     "metadata": {},
     "output_type": "execute_result"
    }
   ],
   "source": [
    "data[0][0].keys()"
   ]
  },
  {
   "cell_type": "code",
   "execution_count": 4,
   "metadata": {},
   "outputs": [
    {
     "data": {
      "text/plain": [
       "2"
      ]
     },
     "execution_count": 4,
     "metadata": {},
     "output_type": "execute_result"
    }
   ],
   "source": [
    "a = np.zeros((10,10))\n",
    "len(a.shape)"
   ]
  },
  {
   "cell_type": "code",
   "execution_count": 5,
   "metadata": {},
   "outputs": [
    {
     "name": "stdout",
     "output_type": "stream",
     "text": [
      "376400 369440 10160 359281\n",
      "376600 369640 10160 359481\n",
      "390680 383720 10120 373601\n",
      "390320 383360 10160 373201\n",
      "376240 369280 10120 359161\n",
      "376840 369880 10160 359721\n",
      "390720 383760 10120 373641\n",
      "390200 383240 10120 373121\n",
      "390640 383680 10200 373481\n",
      "390160 383200 10200 373001\n",
      "390720 383760 10120 373641\n",
      "390200 383240 10120 373121\n",
      "390240 383280 10120 373161\n",
      "390920 383960 10120 373841\n"
     ]
    }
   ],
   "source": [
    "for i in range(7):\n",
    "    for j in range(2):\n",
    "        print(data[i][j]['V'].shape[0], data[i][j]['t_off'][-1], data[i][j]['t_on'][0], data[i][j]['t_off'][-1] - data[i][j]['t_on'][0] + 1)"
   ]
  },
  {
   "cell_type": "code",
   "execution_count": 8,
   "metadata": {},
   "outputs": [
    {
     "data": {
      "text/plain": [
       "14680"
      ]
     },
     "execution_count": 8,
     "metadata": {},
     "output_type": "execute_result"
    }
   ],
   "source": [
    "390920  - 376240"
   ]
  },
  {
   "cell_type": "code",
   "execution_count": 10,
   "metadata": {},
   "outputs": [
    {
     "data": {
      "text/plain": [
       "7340"
      ]
     },
     "execution_count": 10,
     "metadata": {},
     "output_type": "execute_result"
    }
   ],
   "source": [
    "(390920  - 376240) // 2"
   ]
  },
  {
   "cell_type": "code",
   "execution_count": null,
   "metadata": {},
   "outputs": [],
   "source": [
    "data[0][0]['stim_id']"
   ]
  },
  {
   "cell_type": "code",
   "execution_count": null,
   "metadata": {},
   "outputs": [],
   "source": [
    "data[0][0]['V'].shape"
   ]
  },
  {
   "cell_type": "code",
   "execution_count": null,
   "metadata": {},
   "outputs": [],
   "source": [
    "np.zeros(data[0][0]['V'][:,:46].shape).shape"
   ]
  },
  {
   "cell_type": "code",
   "execution_count": null,
   "metadata": {},
   "outputs": [],
   "source": [
    "data[0][0]['t_on'].shape[0]"
   ]
  },
  {
   "cell_type": "code",
   "execution_count": 7,
   "metadata": {},
   "outputs": [],
   "source": [
    "dat1 = data[1][0] \n",
    "\n",
    "discrete_data, extra_info_dat1 = split_classes(data=dat1)\n",
    "\n",
    "continues_data_1_dat1, extra_info_1_dat1 = continues_classes(data=dat1)\n",
    "\n",
    "continues_data_2_dat1, extra_info_2_dat1 = continues_classes_idle(data=dat1)"
   ]
  },
  {
   "cell_type": "code",
   "execution_count": 9,
   "metadata": {},
   "outputs": [
    {
     "data": {
      "text/plain": [
       "(60, 3000, 46)"
      ]
     },
     "execution_count": 9,
     "metadata": {},
     "output_type": "execute_result"
    }
   ],
   "source": [
    "continues_data_1_dat1['stim_id'].shape"
   ]
  },
  {
   "cell_type": "code",
   "execution_count": 37,
   "metadata": {},
   "outputs": [
    {
     "data": {
      "text/plain": [
       "array([[13, 13, 14, 13, 13, 14, 14, 14, 13],\n",
       "       [ 1,  1,  4,  1,  1,  4, 13,  4, 15]])"
      ]
     },
     "execution_count": 37,
     "metadata": {},
     "output_type": "execute_result"
    }
   ],
   "source": [
    "a = [[11,11,12,11,11,12,12,12,11] , [1,1,2,1,1,2,11,2,13]]\n",
    "a = np.array(a)\n",
    "\n",
    "# (a == 12).astype(int)\n",
    "a = a+2\n",
    "a[a == 3] = 1\n",
    "a"
   ]
  },
  {
   "cell_type": "code",
   "execution_count": 12,
   "metadata": {},
   "outputs": [],
   "source": [
    "dat2 = data[2][0] \n",
    "\n",
    "tongue_data_dat2, hand_data_dat2, extra_info_dat2 = split_classes(data=dat2)\n",
    "\n",
    "continues_data_1_dat2, extra_info_1_dat2 = continues_classes(data=dat2)\n",
    "\n",
    "continues_data_2_dat2, extra_info_2_dat2 = continues_classes_idle(data=dat2)"
   ]
  },
  {
   "cell_type": "code",
   "execution_count": 13,
   "metadata": {},
   "outputs": [],
   "source": [
    "max_iterations = 10000\n",
    "output_dimension = 3\n",
    "\n",
    "from cebra import CEBRA\n",
    "\n",
    "cebra_posdir3_model = CEBRA(model_architecture='offset10-model',\n",
    "                        batch_size=64,\n",
    "                        learning_rate=3e-4,\n",
    "                        temperature=1,\n",
    "                        output_dimension=output_dimension,\n",
    "                        max_iterations=max_iterations,\n",
    "                        distance='cosine',\n",
    "                        conditional='time_delta',\n",
    "                        device='cuda_if_available',\n",
    "                        verbose=True,\n",
    "                        time_offsets=10)\n"
   ]
  },
  {
   "cell_type": "code",
   "execution_count": null,
   "metadata": {},
   "outputs": [],
   "source": [
    "cebra_posdir3_model.fit(continues_data_2_dat1['V'], continues_data_2_dat1['stim_id'])\n",
    "cebra_posdir3 = cebra_posdir3_model.transform(continues_data_2_dat1['V'])"
   ]
  },
  {
   "cell_type": "code",
   "execution_count": null,
   "metadata": {},
   "outputs": [],
   "source": [
    "cebra_posdir3.shape"
   ]
  },
  {
   "cell_type": "code",
   "execution_count": null,
   "metadata": {},
   "outputs": [],
   "source": [
    "continues_data_2_dat1['stim_id'].shape"
   ]
  },
  {
   "cell_type": "code",
   "execution_count": null,
   "metadata": {},
   "outputs": [],
   "source": [
    "cebra_posdir3.shape"
   ]
  },
  {
   "cell_type": "code",
   "execution_count": null,
   "metadata": {},
   "outputs": [],
   "source": [
    "# import numpy as np\n",
    "# import plotly.express as px\n",
    "\n",
    "# # Example data\n",
    "# # Replace these with your actual data\n",
    "# points = cebra_posdir3  # Shape: (390680, 3)\n",
    "# labels = continues_data_2_dat1['stim_id'][:,0]  # Shape: (390680,)\n",
    "\n",
    "# # Create a DataFrame for easier handling (optional)\n",
    "# import pandas as pd\n",
    "# df = pd.DataFrame(points, columns=[\"X\", \"Y\", \"Z\"])\n",
    "# df[\"Label\"] = labels\n",
    "\n",
    "# # Create a dynamic 3D scatter plot\n",
    "# fig = px.scatter_3d(\n",
    "#     df,\n",
    "#     x=\"X\", \n",
    "#     y=\"Y\", \n",
    "#     z=\"Z\", \n",
    "#     color=\"Label\",  # Color by labels\n",
    "#     color_continuous_scale=\"rainbow\",\n",
    "#     title=\"Dynamic 3D Scatter Plot\",\n",
    "#     labels={\"Label\": \"Classes\"},\n",
    "#     opacity=0.8\n",
    "# )\n",
    "\n",
    "# # Show the plot\n",
    "# fig.show()\n"
   ]
  },
  {
   "cell_type": "code",
   "execution_count": null,
   "metadata": {},
   "outputs": [],
   "source": [
    "# import numpy as np\n",
    "# import plotly.express as px\n",
    "\n",
    "# # Example data\n",
    "# # Replace these with your actual data\n",
    "# points = cebra_posdir3  # Shape: (390680, 3)\n",
    "# labels = continues_data_2_dat1['stim_id'][:,0]  # Shape: (390680,)\n",
    "\n",
    "# # Create a DataFrame for easier handling (optional)\n",
    "# import pandas as pd\n",
    "# df = pd.DataFrame(points, columns=[\"X\", \"Y\", \"Z\"])\n",
    "# df[\"Label\"] = labels\n",
    "\n",
    "# # Create a dynamic 3D scatter plot\n",
    "# fig = px.scatter_3d(\n",
    "#     df,\n",
    "#     x=\"X\", \n",
    "#     y=\"Y\", \n",
    "#     z=\"Z\", \n",
    "#     color=\"Label\",  # Color by labels\n",
    "#     color_continuous_scale=\"rainbow\",\n",
    "#     title=\"Dynamic 3D Scatter Plot\",\n",
    "#     labels={\"Label\": \"Classes\"},\n",
    "#     opacity=0.8\n",
    "# )\n",
    "\n",
    "# fig.update_traces(marker=dict(size=2))\n",
    "\n",
    "# # Show the plot\n",
    "# fig.show()\n"
   ]
  },
  {
   "cell_type": "code",
   "execution_count": null,
   "metadata": {},
   "outputs": [],
   "source": []
  },
  {
   "cell_type": "code",
   "execution_count": null,
   "metadata": {},
   "outputs": [],
   "source": []
  }
 ],
 "metadata": {
  "kernelspec": {
   "display_name": "Python 3",
   "language": "python",
   "name": "python3"
  },
  "language_info": {
   "codemirror_mode": {
    "name": "ipython",
    "version": 3
   },
   "file_extension": ".py",
   "mimetype": "text/x-python",
   "name": "python",
   "nbconvert_exporter": "python",
   "pygments_lexer": "ipython3",
   "version": "3.12.4"
  }
 },
 "nbformat": 4,
 "nbformat_minor": 2
}
